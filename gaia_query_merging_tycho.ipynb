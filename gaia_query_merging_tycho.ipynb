{
 "cells": [
  {
   "cell_type": "markdown",
   "id": "a09cf2da",
   "metadata": {},
   "source": [
    "# This program queries edr3gaia & tycho2 for data, and makes a csv file with their relevant information"
   ]
  },
  {
   "cell_type": "markdown",
   "id": "17d09d2f",
   "metadata": {},
   "source": [
    "### Have the tycho2 database (with mag < 7), and all of those stars that are also in the edr3. Inclued the variables: RA_tycho2, Dec_tycho2, RA_edr3, Dec_edr3, proper motion, color/spectra (pick the band that is brightest in the visible range: 442 nm for Bt, 540 𝑛𝑚 𝑓𝑜𝑟 𝑉𝑡 )"
   ]
  },
  {
   "cell_type": "code",
   "execution_count": 62,
   "id": "1227ddd7",
   "metadata": {},
   "outputs": [],
   "source": [
    "from astroquery.gaia import Gaia\n",
    "import csv\n",
    "import pandas as pd"
   ]
  },
  {
   "cell_type": "code",
   "execution_count": 52,
   "id": "35477aa1",
   "metadata": {},
   "outputs": [
    {
     "name": "stdout",
     "output_type": "stream",
     "text": [
      "INFO: Query finished. [astroquery.utils.tap.core]\n"
     ]
    }
   ],
   "source": [
    "# Write a query for the brightest stars in Tycho2 and GaiaEDR3\n",
    "job = Gaia.launch_job_async(\"SELECT public.tycho2.id, gaiaedr3.tycho2tdsc_merge_best_neighbour.original_ext_source_id, gaiaedr3.tycho2tdsc_merge_best_neighbour.source_id, gaiaedr3.gaia_source.source_id, public.tycho2.ra, public.tycho2.dec, gaiaedr3.gaia_source.ra, gaiaedr3.gaia_source.dec, public.tycho2.vt_mag, gaiaedr3.gaia_source.pseudocolour, gaiaedr3.gaia_source.phot_g_mean_mag, gaiaedr3.gaia_source.pm, gaiaedr3.gaia_source.pmra, gaiaedr3.gaia_source.pmdec \\\n",
    "FROM public.tycho2, gaiaedr3.tycho2tdsc_merge_best_neighbour, gaiaedr3.gaia_source \\\n",
    "WHERE (public.tycho2.vt_mag<=7) \\\n",
    "AND (public.tycho2.id=gaiaedr3.tycho2tdsc_merge_best_neighbour.original_ext_source_id) \\\n",
    "AND (gaiaedr3.tycho2tdsc_merge_best_neighbour.source_id=gaiaedr3.gaia_source.source_id) \\\n",
    "ORDER by public.tycho2.vt_mag;\"\\\n",
    ", dump_to_file=False)\n",
    "\n",
    "survey = job.get_results()"
   ]
  },
  {
   "cell_type": "code",
   "execution_count": null,
   "id": "6155db5e",
   "metadata": {},
   "outputs": [],
   "source": [
    "path = '/home/dcpetit/Documents/work_employment/arcsec/Gaia_Investigations/'\n",
    "file = 'tycho2_gaia_bright_database.csv'\n",
    "f = open(path+file, 'w')\n",
    "writer = csv.writer(f)\n",
    "writer.writerow(['id', 'original_ext_source_id', 'source_id_TycMergeGaia', 'source_id_gaia', 'ra_tyc', 'dec_tyc', 'ra_gaia', 'dec_gaia', 'vt_mag', 'pseudocolour', 'phot_g_mean_mag', 'pm [mas/yr]', 'pmra', 'pmdec']) # Write the column headers ###\n",
    "writer.writerows(survey)\n",
    "f.close()\n",
    "dataFrame = pd.read_csv(path+file)"
   ]
  },
  {
   "cell_type": "code",
   "execution_count": 75,
   "id": "b3f90495",
   "metadata": {},
   "outputs": [
    {
     "name": "stdout",
     "output_type": "stream",
     "text": [
      "The sum of the ra errors (~0):      0.14\n",
      "The sum of the ra differnces (>0):  5.329\n",
      "The sum of the dec errors (~0):    -1.302\n",
      "The sum of the dec differnces (>0): 2.952\n",
      "The average of the ra errors (~0):      1.2e-05\n",
      "The average of the ra differnces (>0):  0.000451\n",
      "The average of the dec errors (~0):    -0.00011\n",
      "The average of the dec differnces (>0): 0.00025\n"
     ]
    }
   ],
   "source": [
    "dataFrame['ra_error'] = dataFrame['ra_gaia'] - dataFrame['ra_tyc']\n",
    "dataFrame['ra_difference'] = abs( dataFrame['ra_gaia'] - dataFrame['ra_tyc'] )\n",
    "dataFrame['dec_error'] = dataFrame['dec_gaia'] - dataFrame['dec_tyc']\n",
    "dataFrame['dec_difference'] = abs( dataFrame['dec_gaia'] - dataFrame['dec_tyc'] )\n",
    "print('The sum of the ra errors (~0):     ', round(dataFrame['ra_error'].sum(),3))\n",
    "print('The sum of the ra differnces (>0): ', round(dataFrame['ra_difference'].sum(),3))\n",
    "print('The sum of the dec errors (~0):   ', round(dataFrame['dec_error'].sum(),3))\n",
    "print('The sum of the dec differnces (>0):', round(dataFrame['dec_difference'].sum(),3))\n",
    "print('The average of the ra errors (~0):     ', round(dataFrame['ra_error'].mean(),6))\n",
    "print('The average of the ra differnces (>0): ', round(dataFrame['ra_difference'].mean(),6))\n",
    "print('The average of the dec errors (~0):   ', round(dataFrame['dec_error'].mean(),6))\n",
    "print('The average of the dec differnces (>0):', round(dataFrame['dec_difference'].mean(),6))\n"
   ]
  },
  {
   "cell_type": "code",
   "execution_count": 60,
   "id": "c30f1c1a",
   "metadata": {},
   "outputs": [],
   "source": [
    "dataFrame.to_csv(path+file)"
   ]
  },
  {
   "cell_type": "code",
   "execution_count": null,
   "id": "06bc46e6",
   "metadata": {},
   "outputs": [],
   "source": [
    "    ''' The Code appendix (trash)\n",
    "If headers were automatically populated, and then needed renaming:\n",
    "#dataFrame['ra_tyc'] = dataFrame['']\n",
    "#dataFrame['ra_gaia'] = dataFrame[:,5]\n",
    "#dataFrame['dec_tyc'] = dataFrame[:,6]\n",
    "#dataFrame['dec_gaia'] = dataFrame[:,7]\n",
    "#dataFrame.drop(['ra', 'ra_2', 'dec', 'dec_2'])\n",
    "\n",
    "If printing a dataFrame, and few decimal places are visibly wanted\n",
    "pd.options.display.float_format = \"{:,.2f}\".format\n",
    "    '''"
   ]
  }
 ],
 "metadata": {
  "kernelspec": {
   "display_name": "Python 3",
   "language": "python",
   "name": "python3"
  },
  "language_info": {
   "codemirror_mode": {
    "name": "ipython",
    "version": 3
   },
   "file_extension": ".py",
   "mimetype": "text/x-python",
   "name": "python",
   "nbconvert_exporter": "python",
   "pygments_lexer": "ipython3",
   "version": "3.8.8"
  }
 },
 "nbformat": 4,
 "nbformat_minor": 5
}
